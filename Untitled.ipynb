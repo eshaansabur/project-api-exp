{
 "cells": [
  {
   "cell_type": "code",
   "execution_count": 4,
   "id": "8b20cdb5-4c21-4fb3-9774-652a319db0e0",
   "metadata": {},
   "outputs": [
    {
     "data": {
      "text/plain": [
       "'3.11.7 (tags/v3.11.7:fa7a6f2, Dec  4 2023, 19:24:49) [MSC v.1937 64 bit (AMD64)]'"
      ]
     },
     "execution_count": 4,
     "metadata": {},
     "output_type": "execute_result"
    }
   ],
   "source": [
    "import sys\n",
    "sys.version"
   ]
  },
  {
   "cell_type": "code",
   "execution_count": 5,
   "id": "3ce0d85a-d7b5-4fc7-9a8d-78327a1883fd",
   "metadata": {},
   "outputs": [
    {
     "name": "stdout",
     "output_type": "stream",
     "text": [
      "Requirement already satisfied: supervisely in c:\\users\\hp\\appdata\\local\\programs\\python\\python311\\lib\\site-packages (6.72.213)\n",
      "Requirement already satisfied: cachetools<5.0.0 in c:\\users\\hp\\appdata\\local\\programs\\python\\python311\\lib\\site-packages (from supervisely) (4.2.4)\n",
      "Requirement already satisfied: numpy<2.0.0,>=1.19 in c:\\users\\hp\\appdata\\local\\programs\\python\\python311\\lib\\site-packages (from supervisely) (1.26.2)\n",
      "Requirement already satisfied: opencv-python<5.0.0.0,>=4.5.5.62 in c:\\users\\hp\\appdata\\local\\programs\\python\\python311\\lib\\site-packages (from supervisely) (4.8.1.78)\n",
      "Requirement already satisfied: PTable<1.0.0,>=0.9.2 in c:\\users\\hp\\appdata\\local\\programs\\python\\python311\\lib\\site-packages (from supervisely) (0.9.2)\n",
      "Requirement already satisfied: pillow<10.0.0,>=5.4.1 in c:\\users\\hp\\appdata\\local\\programs\\python\\python311\\lib\\site-packages (from supervisely) (9.5.0)\n",
      "Requirement already satisfied: protobuf<=3.20.3,>=3.14.0 in c:\\users\\hp\\appdata\\local\\programs\\python\\python311\\lib\\site-packages (from supervisely) (3.20.3)\n",
      "Requirement already satisfied: python-json-logger<3.0.0,>=0.1.11 in c:\\users\\hp\\appdata\\local\\programs\\python\\python311\\lib\\site-packages (from supervisely) (2.0.7)\n",
      "Requirement already satisfied: requests<3.0.0,>=2.27.1 in c:\\users\\hp\\appdata\\local\\programs\\python\\python311\\lib\\site-packages (from supervisely) (2.31.0)\n",
      "Requirement already satisfied: requests-toolbelt>=0.9.1 in c:\\users\\hp\\appdata\\local\\programs\\python\\python311\\lib\\site-packages (from supervisely) (1.0.0)\n",
      "Requirement already satisfied: Shapely<2.0.0,>=1.7.1 in c:\\users\\hp\\appdata\\local\\programs\\python\\python311\\lib\\site-packages (from supervisely) (1.8.5.post1)\n",
      "Requirement already satisfied: bidict<1.0.0,>=0.21.2 in c:\\users\\hp\\appdata\\local\\programs\\python\\python311\\lib\\site-packages (from supervisely) (0.22.1)\n",
      "Requirement already satisfied: varname<1.0.0,>=0.8.1 in c:\\users\\hp\\appdata\\local\\programs\\python\\python311\\lib\\site-packages (from supervisely) (0.12.2)\n",
      "Requirement already satisfied: python-dotenv<=1.0.0,>=0.19.2 in c:\\users\\hp\\appdata\\local\\programs\\python\\python311\\lib\\site-packages (from supervisely) (1.0.0)\n",
      "Requirement already satisfied: pynrrd<1.0.0,>=0.4.2 in c:\\users\\hp\\appdata\\local\\programs\\python\\python311\\lib\\site-packages (from supervisely) (0.4.3)\n",
      "Requirement already satisfied: SimpleITK<3.0.0.0,>=2.1.1.2 in c:\\users\\hp\\appdata\\local\\programs\\python\\python311\\lib\\site-packages (from supervisely) (2.3.1)\n",
      "Requirement already satisfied: pydicom<3.0.0,>=2.3.0 in c:\\users\\hp\\appdata\\local\\programs\\python\\python311\\lib\\site-packages (from supervisely) (2.4.3)\n",
      "Requirement already satisfied: stringcase<2.0.0,>=1.2.0 in c:\\users\\hp\\appdata\\local\\programs\\python\\python311\\lib\\site-packages (from supervisely) (1.2.0)\n",
      "Requirement already satisfied: python-magic<1.0.0,>=0.4.25 in c:\\users\\hp\\appdata\\local\\programs\\python\\python311\\lib\\site-packages (from supervisely) (0.4.27)\n",
      "Requirement already satisfied: trimesh<4.0.0,>=3.11.2 in c:\\users\\hp\\appdata\\local\\programs\\python\\python311\\lib\\site-packages (from supervisely) (3.23.5)\n",
      "Requirement already satisfied: uvicorn[standard]<1.0.0,>=0.18.2 in c:\\users\\hp\\appdata\\local\\programs\\python\\python311\\lib\\site-packages (from supervisely) (0.24.0.post1)\n",
      "Requirement already satisfied: pydantic<2.0.0,>=1.7.4 in c:\\users\\hp\\appdata\\local\\programs\\python\\python311\\lib\\site-packages (from supervisely) (1.10.13)\n",
      "Requirement already satisfied: anyio<4.0.0,>=3.7.1 in c:\\users\\hp\\appdata\\local\\programs\\python\\python311\\lib\\site-packages (from supervisely) (3.7.1)\n",
      "Requirement already satisfied: fastapi<0.100.0,>=0.79.0 in c:\\users\\hp\\appdata\\local\\programs\\python\\python311\\lib\\site-packages (from supervisely) (0.99.1)\n",
      "Requirement already satisfied: websockets<11.0,>=10.3 in c:\\users\\hp\\appdata\\local\\programs\\python\\python311\\lib\\site-packages (from supervisely) (10.4)\n",
      "Requirement already satisfied: jinja2<4.0.0,>=3.0.3 in c:\\users\\hp\\appdata\\local\\programs\\python\\python311\\lib\\site-packages (from supervisely) (3.1.2)\n",
      "Requirement already satisfied: psutil<6.0.0,>=5.9.0 in c:\\users\\hp\\appdata\\local\\programs\\python\\python311\\lib\\site-packages (from supervisely) (5.9.6)\n",
      "Requirement already satisfied: jsonpatch<2.0,>=1.32 in c:\\users\\hp\\appdata\\local\\programs\\python\\python311\\lib\\site-packages (from supervisely) (1.33)\n",
      "Requirement already satisfied: MarkupSafe<3.0.0,>=2.1.1 in c:\\users\\hp\\appdata\\local\\programs\\python\\python311\\lib\\site-packages (from supervisely) (2.1.3)\n",
      "Requirement already satisfied: arel<1.0.0,>=0.2.0 in c:\\users\\hp\\appdata\\local\\programs\\python\\python311\\lib\\site-packages (from supervisely) (0.2.0)\n",
      "Requirement already satisfied: tqdm<5.0.0,>=4.62.3 in c:\\users\\hp\\appdata\\local\\programs\\python\\python311\\lib\\site-packages (from supervisely) (4.66.1)\n",
      "Requirement already satisfied: pandas<=1.5.2,>=1.1.3 in c:\\users\\hp\\appdata\\local\\programs\\python\\python311\\lib\\site-packages (from supervisely) (1.5.2)\n",
      "Requirement already satisfied: async-asgi-testclient in c:\\users\\hp\\appdata\\local\\programs\\python\\python311\\lib\\site-packages (from supervisely) (1.4.11)\n",
      "Requirement already satisfied: PyYAML in c:\\users\\hp\\appdata\\local\\programs\\python\\python311\\lib\\site-packages (from supervisely) (6.0.1)\n",
      "Requirement already satisfied: distinctipy in c:\\users\\hp\\appdata\\local\\programs\\python\\python311\\lib\\site-packages (from supervisely) (1.2.3)\n",
      "Requirement already satisfied: beautifulsoup4 in c:\\users\\hp\\appdata\\local\\programs\\python\\python311\\lib\\site-packages (from supervisely) (4.12.2)\n",
      "Requirement already satisfied: numerize in c:\\users\\hp\\appdata\\local\\programs\\python\\python311\\lib\\site-packages (from supervisely) (0.12)\n",
      "Requirement already satisfied: ffmpeg-python==0.2.0 in c:\\users\\hp\\appdata\\local\\programs\\python\\python311\\lib\\site-packages (from supervisely) (0.2.0)\n",
      "Requirement already satisfied: python-multipart==0.0.5 in c:\\users\\hp\\appdata\\local\\programs\\python\\python311\\lib\\site-packages (from supervisely) (0.0.5)\n",
      "Requirement already satisfied: GitPython in c:\\users\\hp\\appdata\\local\\programs\\python\\python311\\lib\\site-packages (from supervisely) (3.1.40)\n",
      "Requirement already satisfied: giturlparse in c:\\users\\hp\\appdata\\local\\programs\\python\\python311\\lib\\site-packages (from supervisely) (0.12.0)\n",
      "Requirement already satisfied: rich in c:\\users\\hp\\appdata\\local\\programs\\python\\python311\\lib\\site-packages (from supervisely) (13.7.0)\n",
      "Requirement already satisfied: click in c:\\users\\hp\\appdata\\local\\programs\\python\\python311\\lib\\site-packages (from supervisely) (8.1.7)\n",
      "Requirement already satisfied: imutils==0.5.4 in c:\\users\\hp\\appdata\\local\\programs\\python\\python311\\lib\\site-packages (from supervisely) (0.5.4)\n",
      "Requirement already satisfied: urllib3<2.0.0,>=1.26.15 in c:\\users\\hp\\appdata\\local\\programs\\python\\python311\\lib\\site-packages (from supervisely) (1.26.18)\n",
      "Requirement already satisfied: cacheout==0.14.1 in c:\\users\\hp\\appdata\\local\\programs\\python\\python311\\lib\\site-packages (from supervisely) (0.14.1)\n",
      "Requirement already satisfied: future in c:\\users\\hp\\appdata\\local\\programs\\python\\python311\\lib\\site-packages (from ffmpeg-python==0.2.0->supervisely) (0.18.3)\n",
      "Requirement already satisfied: six>=1.4.0 in c:\\users\\hp\\appdata\\local\\programs\\python\\python311\\lib\\site-packages (from python-multipart==0.0.5->supervisely) (1.16.0)\n",
      "Requirement already satisfied: idna>=2.8 in c:\\users\\hp\\appdata\\local\\programs\\python\\python311\\lib\\site-packages (from anyio<4.0.0,>=3.7.1->supervisely) (3.6)\n",
      "Requirement already satisfied: sniffio>=1.1 in c:\\users\\hp\\appdata\\local\\programs\\python\\python311\\lib\\site-packages (from anyio<4.0.0,>=3.7.1->supervisely) (1.3.0)\n",
      "Requirement already satisfied: starlette==0.* in c:\\users\\hp\\appdata\\local\\programs\\python\\python311\\lib\\site-packages (from arel<1.0.0,>=0.2.0->supervisely) (0.27.0)\n",
      "Requirement already satisfied: watchgod==0.6.* in c:\\users\\hp\\appdata\\local\\programs\\python\\python311\\lib\\site-packages (from arel<1.0.0,>=0.2.0->supervisely) (0.6)\n",
      "Requirement already satisfied: typing-extensions>=4.5.0 in c:\\users\\hp\\appdata\\local\\programs\\python\\python311\\lib\\site-packages (from fastapi<0.100.0,>=0.79.0->supervisely) (4.9.0)\n",
      "Requirement already satisfied: jsonpointer>=1.9 in c:\\users\\hp\\appdata\\local\\programs\\python\\python311\\lib\\site-packages (from jsonpatch<2.0,>=1.32->supervisely) (2.4)\n",
      "Requirement already satisfied: python-dateutil>=2.8.1 in c:\\users\\hp\\appdata\\local\\programs\\python\\python311\\lib\\site-packages (from pandas<=1.5.2,>=1.1.3->supervisely) (2.8.2)\n",
      "Requirement already satisfied: pytz>=2020.1 in c:\\users\\hp\\appdata\\local\\programs\\python\\python311\\lib\\site-packages (from pandas<=1.5.2,>=1.1.3->supervisely) (2023.3.post1)\n",
      "Requirement already satisfied: charset-normalizer<4,>=2 in c:\\users\\hp\\appdata\\local\\programs\\python\\python311\\lib\\site-packages (from requests<3.0.0,>=2.27.1->supervisely) (3.3.2)\n",
      "Requirement already satisfied: certifi>=2017.4.17 in c:\\users\\hp\\appdata\\local\\programs\\python\\python311\\lib\\site-packages (from requests<3.0.0,>=2.27.1->supervisely) (2023.11.17)\n",
      "Requirement already satisfied: colorama in c:\\users\\hp\\appdata\\local\\programs\\python\\python311\\lib\\site-packages (from tqdm<5.0.0,>=4.62.3->supervisely) (0.4.6)\n",
      "Requirement already satisfied: h11>=0.8 in c:\\users\\hp\\appdata\\local\\programs\\python\\python311\\lib\\site-packages (from uvicorn[standard]<1.0.0,>=0.18.2->supervisely) (0.14.0)\n",
      "Requirement already satisfied: httptools>=0.5.0 in c:\\users\\hp\\appdata\\local\\programs\\python\\python311\\lib\\site-packages (from uvicorn[standard]<1.0.0,>=0.18.2->supervisely) (0.6.1)\n",
      "Requirement already satisfied: watchfiles>=0.13 in c:\\users\\hp\\appdata\\local\\programs\\python\\python311\\lib\\site-packages (from uvicorn[standard]<1.0.0,>=0.18.2->supervisely) (0.21.0)\n",
      "Requirement already satisfied: executing<3.0,>=2.0 in c:\\users\\hp\\appdata\\local\\programs\\python\\python311\\lib\\site-packages (from varname<1.0.0,>=0.8.1->supervisely) (2.0.1)\n",
      "Requirement already satisfied: multidict<7.0,>=4.0 in c:\\users\\hp\\appdata\\local\\programs\\python\\python311\\lib\\site-packages (from async-asgi-testclient->supervisely) (6.0.4)\n",
      "Requirement already satisfied: soupsieve>1.2 in c:\\users\\hp\\appdata\\local\\programs\\python\\python311\\lib\\site-packages (from beautifulsoup4->supervisely) (2.5)\n",
      "Requirement already satisfied: gitdb<5,>=4.0.1 in c:\\users\\hp\\appdata\\local\\programs\\python\\python311\\lib\\site-packages (from GitPython->supervisely) (4.0.11)\n",
      "Requirement already satisfied: markdown-it-py>=2.2.0 in c:\\users\\hp\\appdata\\local\\programs\\python\\python311\\lib\\site-packages (from rich->supervisely) (3.0.0)\n",
      "Requirement already satisfied: pygments<3.0.0,>=2.13.0 in c:\\users\\hp\\appdata\\local\\programs\\python\\python311\\lib\\site-packages (from rich->supervisely) (2.17.2)\n",
      "Requirement already satisfied: smmap<6,>=3.0.1 in c:\\users\\hp\\appdata\\local\\programs\\python\\python311\\lib\\site-packages (from gitdb<5,>=4.0.1->GitPython->supervisely) (5.0.1)\n",
      "Requirement already satisfied: mdurl~=0.1 in c:\\users\\hp\\appdata\\local\\programs\\python\\python311\\lib\\site-packages (from markdown-it-py>=2.2.0->rich->supervisely) (0.1.2)\n",
      "Note: you may need to restart the kernel to use updated packages.\n"
     ]
    },
    {
     "name": "stderr",
     "output_type": "stream",
     "text": [
      "\n",
      "[notice] A new release of pip is available: 23.2.1 -> 23.3.1\n",
      "[notice] To update, run: python.exe -m pip install --upgrade pip\n"
     ]
    }
   ],
   "source": [
    "pip install supervisely"
   ]
  },
  {
   "cell_type": "code",
   "execution_count": 6,
   "id": "2f1b66fe-1f12-4bd8-92a9-745d1686d415",
   "metadata": {},
   "outputs": [],
   "source": [
    "import supervisely as sly"
   ]
  },
  {
   "cell_type": "code",
   "execution_count": 7,
   "id": "7af3763e-cabf-4b21-90c2-65c4f0af2e8e",
   "metadata": {},
   "outputs": [],
   "source": [
    "import os"
   ]
  },
  {
   "cell_type": "code",
   "execution_count": 8,
   "id": "783347e3-c72f-42af-992c-9f0377727655",
   "metadata": {},
   "outputs": [
    {
     "name": "stdout",
     "output_type": "stream",
     "text": [
      "ProjectInfo(id=14359, name='2023-12-01 14:27:33.582', description='', size='4023130', readme='', workspace_id=3210, images_count=3, items_count=3, datasets_count=3, created_at='2023-12-01T08:29:12.110Z', updated_at='2023-12-12T07:04:22.185Z', type='images', reference_image_url='/image-converter/convert/supervisely-quantigo-public/images/original/U/v/xC/ju8opYnF6vkAEtaDvrLzaqtEhOSzXKUuLtbJcce4DugQz8NlXaXtMED62PjUhc6HmKc5cR0ouivYHegVDUaP3G1LTCSgBbMdE23hkXdOrhbOVRJbEeewt1NjIcIe.jpg', custom_data={}, backup_archive=None)\n"
     ]
    }
   ],
   "source": [
    "project_id = 14359\n",
    "\n",
    "os.environ['SERVER_ADDRESS'] = ''\n",
    "os.environ['API_TOKEN'] = ''\n",
    "api = sly.Api.from_env()\n",
    "\n",
    "project_info = api.project.get_info_by_id(project_id)\n",
    "print(project_info)"
   ]
  },
  {
   "cell_type": "code",
   "execution_count": 9,
   "id": "cb181bf7-ef45-4e0a-9d31-e6a7d48df02a",
   "metadata": {},
   "outputs": [
    {
     "name": "stdout",
     "output_type": "stream",
     "text": [
      "True\n",
      "ImageInfo(id=19580334, name='strawberry.jpg', link=None, hash='d45eMkN9e5lpkvOpc9XT+P2BfDwzOYM+dW999i8JKLA=', mime='image/jpeg', ext='jpeg', size=851844, width=3508, height=4961, labels_count=19, dataset_id=36921, created_at='2023-12-03T19:03:28.895Z', updated_at='2023-12-04T05:20:38.088Z', meta={}, path_original='/supervisely-quantigo-public/images/original/f/2/as/Tnv2eiKBfjDHIBPIETR9T5mK9lnjk4dkzJgADvHZff0kOptFjwObSKvfsg3ejORFGgCT3FeSmYodZcgYnvWU4RE16cpf7FUCzbIy9hF75K6q5TDdLQUi14Ozm9qe.jpg', full_storage_url='http://quantigo.supervise.ly:43567/supervisely-quantigo-public/images/original/f/2/as/Tnv2eiKBfjDHIBPIETR9T5mK9lnjk4dkzJgADvHZff0kOptFjwObSKvfsg3ejORFGgCT3FeSmYodZcgYnvWU4RE16cpf7FUCzbIy9hF75K6q5TDdLQUi14Ozm9qe.jpg', tags=[])\n"
     ]
    }
   ],
   "source": [
    "name = \"strawberry.jpg\"\n",
    "dataset_id = 36921\n",
    "exists = api.image.exists(dataset_id, name)\n",
    "print(exists)\n",
    "info = api.image.get_info_by_name(dataset_id, name)\n",
    "print(info)"
   ]
  },
  {
   "cell_type": "code",
   "execution_count": 10,
   "id": "01704c57-cb84-46e0-b623-4eeab7d7dea7",
   "metadata": {},
   "outputs": [],
   "source": [
    "project_id = 14359\n",
    "datasets = api.dataset.get_list(project_id)"
   ]
  },
  {
   "cell_type": "code",
   "execution_count": 11,
   "id": "b8074892-275a-46d1-a7cd-1e22a30e0d4d",
   "metadata": {},
   "outputs": [
    {
     "name": "stdout",
     "output_type": "stream",
     "text": [
      "[DatasetInfo(id=36911, name='2023-12-01 14:27:33.582', description='', size='128886', project_id=14359, images_count=1, items_count=1, created_at='2023-12-01T08:29:12.150Z', updated_at='2023-12-01T08:29:12.150Z', reference_image_url='/image-converter/convert/supervisely-quantigo-public/images/original/U/v/xC/ju8opYnF6vkAEtaDvrLzaqtEhOSzXKUuLtbJcce4DugQz8NlXaXtMED62PjUhc6HmKc5cR0ouivYHegVDUaP3G1LTCSgBbMdE23hkXdOrhbOVRJbEeewt1NjIcIe.jpg'), DatasetInfo(id=36921, name='2023-12-04 01:02:43.569', description='', size='851844', project_id=14359, images_count=1, items_count=1, created_at='2023-12-03T19:03:28.800Z', updated_at='2023-12-03T19:03:28.800Z', reference_image_url='/image-converter/convert/supervisely-quantigo-public/images/original/f/2/as/Tnv2eiKBfjDHIBPIETR9T5mK9lnjk4dkzJgADvHZff0kOptFjwObSKvfsg3ejORFGgCT3FeSmYodZcgYnvWU4RE16cpf7FUCzbIy9hF75K6q5TDdLQUi14Ozm9qe.jpg'), DatasetInfo(id=36922, name='2023-12-04 11:48:49.613', description='', size='3042400', project_id=14359, images_count=1, items_count=1, created_at='2023-12-04T05:57:11.205Z', updated_at='2023-12-04T05:57:11.205Z', reference_image_url='/image-converter/convert/supervisely-quantigo-public/images/original/8/R/6U/AnAGRHk5vqyZD0ZNAVeP2JWyFHoxCYg0gLGnR6ffbhiw1E9DlabWeGnPZAG14i7gYI0dZJTqYdXiOJVpdibU47xHGPYFmJpiDUBaRk7s4AVyVvXJm88FjCfzFbRy.jpg')]\n"
     ]
    }
   ],
   "source": [
    "datasets\n",
    "print(datasets)"
   ]
  },
  {
   "cell_type": "code",
   "execution_count": 12,
   "id": "550fd2e1-9a15-4d79-a7b0-30a0f83780f1",
   "metadata": {},
   "outputs": [
    {
     "name": "stdout",
     "output_type": "stream",
     "text": [
      "{'QAI_DK1985': 60}\n",
      "{'QAI_DK1985': 19}\n",
      "{'QAI_DK1985': 2}\n"
     ]
    }
   ],
   "source": [
    "for dataset in datasets:\n",
    "    #print(dataset)\n",
    "    dataset_id = dataset.id\n",
    "    #print(dataset_id)\n",
    "    ann_infos = api.annotation.get_list(dataset_id)\n",
    "    demo_objects = ann_infos[0].annotation['objects']\n",
    "    #print(len(demo_objects))\n",
    "    creator_dictionary = {}\n",
    "    #initial_value= 1\n",
    "    for object in demo_objects:\n",
    "        #print(object['labelerLogin'])\n",
    "        creator = object['labelerLogin']\n",
    "        initial_value= 1\n",
    "        #print(creator)\n",
    "        if creator not in creator_dictionary.keys():\n",
    "            creator_dictionary[creator]=initial_value\n",
    "            #print(creator_dictionary[creator])\n",
    "        else:\n",
    "            creator_dictionary[creator] = creator_dictionary[creator]+1\n",
    "    #print(creator_dictionary[creator])\n",
    "    print(creator_dictionary)"
   ]
  },
  {
   "cell_type": "code",
   "execution_count": null,
   "id": "d93b8550-af9d-4a9c-ad6d-5405d2a04e74",
   "metadata": {},
   "outputs": [],
   "source": []
  }
 ],
 "metadata": {
  "kernelspec": {
   "display_name": "Python 3 (ipykernel)",
   "language": "python",
   "name": "python3"
  },
  "language_info": {
   "codemirror_mode": {
    "name": "ipython",
    "version": 3
   },
   "file_extension": ".py",
   "mimetype": "text/x-python",
   "name": "python",
   "nbconvert_exporter": "python",
   "pygments_lexer": "ipython3",
   "version": "3.11.7"
  }
 },
 "nbformat": 4,
 "nbformat_minor": 5
}
